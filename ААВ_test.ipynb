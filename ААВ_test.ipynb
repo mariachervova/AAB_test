{
 "cells": [
  {
   "cell_type": "markdown",
   "metadata": {},
   "source": [
    "# Анализ результатов A/A/B-теста  пользователей мобильного приложения"
   ]
  },
  {
   "cell_type": "markdown",
   "metadata": {},
   "source": [
    "<a id = 'section1'></a>\n",
    "# Оглавление\n",
    "\n",
    "<a class=\"ancor\" id=\"step_0\"></a>\n",
    "* [Цель и предмет исследования](#step_1)\n",
    "* [1  Загрузка данных и изучение общей информации](#step_2)\n",
    "* [2  Подготовка данных](#step_3)\n",
    "* [3  Изучение и проверка данных](#step_4)\n",
    "* [4  Изучение воронки событий](#step_5)\n",
    "* [5  Изучение результатов эксперимента](#step_6)\n",
    "* [ВЫВОДЫ](#step_7)"
   ]
  },
  {
   "cell_type": "markdown",
   "metadata": {},
   "source": [
    "<a class=\"ancor\" id=\"step_1\"></a>\n",
    "**Цель**: изучить поведение пользователей мобильного приложения стартапе, который продаёт продукты питания, в случае замены шрифта во всем приложении на основании A/A/B-теста (2 контрольные группы со старыми шрифтами А и одна экспериментальная — с новыми шрифтами В) и выяснить какой шрифт лучше.\n",
    "\n",
    "\n",
    "**Предмет исследования**: файл logs_exp.csv\n",
    "\n",
    "*Путь к файлу*: /datasets/logs_exp.csv.\n",
    "\n",
    "*Описание данных*\n",
    "\n",
    "EventName — название события;                                                              \n",
    "DeviceIDHash — уникальный идентификатор пользователя;                                      \n",
    "EventTimestamp — время события;                                                            \n",
    "ExpId — номер эксперимента: 246 и 247 — контрольные группы, а 248 — экспериментальная.     "
   ]
  },
  {
   "cell_type": "markdown",
   "metadata": {},
   "source": [
    "<a href = '#section1'>Вернуться к оглавлению</a>\n",
    "</div>"
   ]
  },
  {
   "cell_type": "markdown",
   "metadata": {},
   "source": [
    "<a class=\"ancor\" id=\"step_2\"></a>\n",
    "## Загрузка данных  и изучение общей информации"
   ]
  },
  {
   "cell_type": "code",
   "execution_count": 1,
   "metadata": {},
   "outputs": [],
   "source": [
    "import pandas as pd\n",
    "import matplotlib.pyplot as plt\n",
    "from scipy import stats as st\n",
    "import numpy as np\n",
    "import math as mth\n",
    "from pandas.plotting import register_matplotlib_converters\n",
    "register_matplotlib_converters()\n"
   ]
  },
  {
   "cell_type": "markdown",
   "metadata": {},
   "source": [
    "Загружены необходимые для анализа библиотеки"
   ]
  },
  {
   "cell_type": "code",
   "execution_count": 2,
   "metadata": {},
   "outputs": [
    {
     "data": {
      "text/html": [
       "<div>\n",
       "<style scoped>\n",
       "    .dataframe tbody tr th:only-of-type {\n",
       "        vertical-align: middle;\n",
       "    }\n",
       "\n",
       "    .dataframe tbody tr th {\n",
       "        vertical-align: top;\n",
       "    }\n",
       "\n",
       "    .dataframe thead th {\n",
       "        text-align: right;\n",
       "    }\n",
       "</style>\n",
       "<table border=\"1\" class=\"dataframe\">\n",
       "  <thead>\n",
       "    <tr style=\"text-align: right;\">\n",
       "      <th></th>\n",
       "      <th>EventName</th>\n",
       "      <th>DeviceIDHash</th>\n",
       "      <th>EventTimestamp</th>\n",
       "      <th>ExpId</th>\n",
       "    </tr>\n",
       "  </thead>\n",
       "  <tbody>\n",
       "    <tr>\n",
       "      <td>0</td>\n",
       "      <td>MainScreenAppear</td>\n",
       "      <td>4575588528974610257</td>\n",
       "      <td>1564029816</td>\n",
       "      <td>246</td>\n",
       "    </tr>\n",
       "    <tr>\n",
       "      <td>1</td>\n",
       "      <td>MainScreenAppear</td>\n",
       "      <td>7416695313311560658</td>\n",
       "      <td>1564053102</td>\n",
       "      <td>246</td>\n",
       "    </tr>\n",
       "    <tr>\n",
       "      <td>2</td>\n",
       "      <td>PaymentScreenSuccessful</td>\n",
       "      <td>3518123091307005509</td>\n",
       "      <td>1564054127</td>\n",
       "      <td>248</td>\n",
       "    </tr>\n",
       "    <tr>\n",
       "      <td>3</td>\n",
       "      <td>CartScreenAppear</td>\n",
       "      <td>3518123091307005509</td>\n",
       "      <td>1564054127</td>\n",
       "      <td>248</td>\n",
       "    </tr>\n",
       "    <tr>\n",
       "      <td>4</td>\n",
       "      <td>PaymentScreenSuccessful</td>\n",
       "      <td>6217807653094995999</td>\n",
       "      <td>1564055322</td>\n",
       "      <td>248</td>\n",
       "    </tr>\n",
       "  </tbody>\n",
       "</table>\n",
       "</div>"
      ],
      "text/plain": [
       "                 EventName         DeviceIDHash  EventTimestamp  ExpId\n",
       "0         MainScreenAppear  4575588528974610257      1564029816    246\n",
       "1         MainScreenAppear  7416695313311560658      1564053102    246\n",
       "2  PaymentScreenSuccessful  3518123091307005509      1564054127    248\n",
       "3         CartScreenAppear  3518123091307005509      1564054127    248\n",
       "4  PaymentScreenSuccessful  6217807653094995999      1564055322    248"
      ]
     },
     "execution_count": 2,
     "metadata": {},
     "output_type": "execute_result"
    }
   ],
   "source": [
    "data = pd.read_csv('/datasets/logs_exp.csv', sep='\\t') #, decimal=',')\n",
    "data.head()"
   ]
  },
  {
   "cell_type": "markdown",
   "metadata": {},
   "source": [
    "При считывании файла  потребовалось дополнительно использование разделителя sep='\\t'"
   ]
  },
  {
   "cell_type": "code",
   "execution_count": 3,
   "metadata": {},
   "outputs": [
    {
     "name": "stdout",
     "output_type": "stream",
     "text": [
      "Общая информация\n",
      "<class 'pandas.core.frame.DataFrame'>\n",
      "RangeIndex: 244126 entries, 0 to 244125\n",
      "Data columns (total 4 columns):\n",
      "EventName         244126 non-null object\n",
      "DeviceIDHash      244126 non-null int64\n",
      "EventTimestamp    244126 non-null int64\n",
      "ExpId             244126 non-null int64\n",
      "dtypes: int64(3), object(1)\n",
      "memory usage: 7.5+ MB\n",
      "None\n",
      "\n",
      "Количество полных строчных дубликатов: 413\n"
     ]
    }
   ],
   "source": [
    "print('Общая информация')\n",
    "print(data.info())\n",
    "print()\n",
    "print('Количество полных строчных дубликатов:', data.duplicated().sum())"
   ]
  },
  {
   "cell_type": "markdown",
   "metadata": {},
   "source": [
    "В логе есть полные строчные дубликаты, их  менее 1%, удалим их из датасета.\n",
    "\n",
    "Пропусков нет.\n",
    "\n",
    "В названии столбцов присутствуют заглавные буквы, заменим их на более удобные.\n",
    "\n",
    "Типы  данных  корректны,  но время события приведено в формате Unix time в секундах, что неудобно для анализа, добавим дополнительные столбцы даты и времени и дат."
   ]
  },
  {
   "cell_type": "markdown",
   "metadata": {},
   "source": [
    "<a href = '#section1'>Вернуться к оглавлению</a>\n",
    "</div>"
   ]
  },
  {
   "cell_type": "markdown",
   "metadata": {},
   "source": [
    "<a class=\"ancor\" id=\"step_3\"></a>\n",
    "## Подготовка  данных"
   ]
  },
  {
   "cell_type": "code",
   "execution_count": 4,
   "metadata": {},
   "outputs": [
    {
     "name": "stdout",
     "output_type": "stream",
     "text": [
      "<class 'pandas.core.frame.DataFrame'>\n",
      "RangeIndex: 243713 entries, 0 to 243712\n",
      "Data columns (total 4 columns):\n",
      "EventName         243713 non-null object\n",
      "DeviceIDHash      243713 non-null int64\n",
      "EventTimestamp    243713 non-null int64\n",
      "ExpId             243713 non-null int64\n",
      "dtypes: int64(3), object(1)\n",
      "memory usage: 7.4+ MB\n"
     ]
    }
   ],
   "source": [
    "data = data.drop_duplicates().reset_index(drop=True)\n",
    "data.info()"
   ]
  },
  {
   "cell_type": "markdown",
   "metadata": {},
   "source": [
    "Удалии дубликаты из лога"
   ]
  },
  {
   "cell_type": "code",
   "execution_count": 5,
   "metadata": {},
   "outputs": [
    {
     "data": {
      "text/plain": [
       "Index(['name', 'user_id', 'timestamp', 'exp_id'], dtype='object')"
      ]
     },
     "execution_count": 5,
     "metadata": {},
     "output_type": "execute_result"
    }
   ],
   "source": [
    "data.columns = ['name', 'user_id', 'timestamp', 'exp_id']\n",
    "data.columns"
   ]
  },
  {
   "cell_type": "markdown",
   "metadata": {},
   "source": [
    "Заменили наименования столбцов"
   ]
  },
  {
   "cell_type": "code",
   "execution_count": 6,
   "metadata": {},
   "outputs": [
    {
     "name": "stdout",
     "output_type": "stream",
     "text": [
      "<class 'pandas.core.frame.DataFrame'>\n",
      "RangeIndex: 243713 entries, 0 to 243712\n",
      "Data columns (total 6 columns):\n",
      "name         243713 non-null object\n",
      "user_id      243713 non-null int64\n",
      "timestamp    243713 non-null int64\n",
      "exp_id       243713 non-null int64\n",
      "date_time    243713 non-null datetime64[ns]\n",
      "date         243713 non-null datetime64[ns]\n",
      "dtypes: datetime64[ns](2), int64(3), object(1)\n",
      "memory usage: 11.2+ MB\n"
     ]
    }
   ],
   "source": [
    "data['date_time'] = pd.to_datetime(data['timestamp'], unit='s')\n",
    "data['date'] = data['date_time'].astype('datetime64[D]')\n",
    "data.head()\n",
    "data.info()"
   ]
  },
  {
   "cell_type": "markdown",
   "metadata": {},
   "source": [
    "Добавлены столбец даты и времени и  столбец дат"
   ]
  },
  {
   "cell_type": "markdown",
   "metadata": {},
   "source": [
    "<a href = '#section1'>Вернуться к оглавлению</a>\n",
    "</div>"
   ]
  },
  {
   "cell_type": "markdown",
   "metadata": {},
   "source": [
    "<a class=\"ancor\" id=\"step_4\"></a>\n",
    "## Изучение и проверка данных"
   ]
  },
  {
   "cell_type": "code",
   "execution_count": 7,
   "metadata": {},
   "outputs": [
    {
     "name": "stdout",
     "output_type": "stream",
     "text": [
      "Количество событий в логе: 243713\n",
      "Количество пользователей в логе: 7551\n",
      "В среднем приходится на пользователя 32.0 события\n",
      "По медиане приходится на пользователя 20.0 событий\n"
     ]
    }
   ],
   "source": [
    "print('Количество событий в логе:', data.shape[0])\n",
    "print('Количество пользователей в логе:', data['user_id'].nunique())\n",
    "print('В среднем приходится на пользователя', \\\n",
    "      round(data.groupby('user_id')['name'].count().mean(), 0), 'события')\n",
    "print('По медиане приходится на пользователя', \\\n",
    "      round(data.groupby('user_id')['name'].count().median(), 0), 'событий')\n",
    "\n",
    "#data.shape[0] / data['user_id'].nunique()  второй способ расчета среднего"
   ]
  },
  {
   "cell_type": "code",
   "execution_count": 8,
   "metadata": {},
   "outputs": [
    {
     "data": {
      "image/png": "[encoded data removed]",
      "text/plain": [
       "<Figure size 576x360 with 1 Axes>"
      ]
     },
     "metadata": {
      "needs_background": "light"
     },
     "output_type": "display_data"
    },
    {
     "name": "stdout",
     "output_type": "stream",
     "text": [
      "Перцентиль 95: 89\n",
      "Перцентиль 99: 200\n"
     ]
    }
   ],
   "source": [
    "a= data.groupby('user_id')['name'].count().reset_index().rename(columns={'name': 'count'})\n",
    "\n",
    "x_values = pd.Series(range(0,len(a)))\n",
    "\n",
    "fig, ax = plt.subplots(figsize=(8, 5))\n",
    "plt.scatter(x_values, a['count'])\n",
    "plt.xlabel('Номер пользователя по порядку')\n",
    "plt.ylabel('Количество событий')\n",
    "plt.title(\"Точечный график количества событий по пользователям\")\n",
    "\n",
    "plt.show()\n",
    "a\n",
    "\n",
    "a.describe()\n",
    "\n",
    "percentile_a = np.percentile(a['count'], [95, 99]) \n",
    "print('Перцентиль 95: {0:.0f}'.format(percentile_a[0])) \n",
    "print('Перцентиль 99: {0:.0f}'.format(percentile_a[1]))"
   ]
  },
  {
   "cell_type": "markdown",
   "metadata": {},
   "source": [
    "Хотелось бы обратить внимание, что в данных у нас есть выбросы и поэтому более объективно описывать число событий на одного пользователя будет медиана или перцентили,вместо среднего (согласно задания проекта). "
   ]
  },
  {
   "cell_type": "code",
   "execution_count": 9,
   "metadata": {},
   "outputs": [
    {
     "name": "stdout",
     "output_type": "stream",
     "text": [
      "В логе данные за период: 2019-07-25 04:43:36 - 2019-08-07 21:15:17\n"
     ]
    }
   ],
   "source": [
    "print('В логе данные за период:', data['date_time'].min(),'-',data['date_time'].max())"
   ]
  },
  {
   "cell_type": "code",
   "execution_count": 10,
   "metadata": {},
   "outputs": [
    {
     "data": {
      "image/png": "[encoded data removed]",
      "text/plain": [
       "<Figure size 648x360 with 1 Axes>"
      ]
     },
     "metadata": {
      "needs_background": "light"
     },
     "output_type": "display_data"
    }
   ],
   "source": [
    "fig, test = plt.subplots()\n",
    "data['date_time'].hist(bins=30)\n",
    "test.set_title('Гистограмма событий по дате и времени')\n",
    "test.set_xlabel('Дата')\n",
    "test.set_ylabel('Количество событий')\n",
    "fig.set_figheight(5) \n",
    "fig.set_figwidth(9) \n",
    "plt.xticks(rotation=90)\n",
    "plt.show()"
   ]
  },
  {
   "cell_type": "markdown",
   "metadata": {},
   "source": [
    "Из гистограммы видно, что до 31 июля данные неполные и их целесообразно отбросить.Возможно это связано с техническими проблемами и началом раскручивания приложения магазина (стартап). Но это может быть связано с проведением маркетинговой кампании/акции, что может привнести ошибку в выводы результатов теста. "
   ]
  },
  {
   "cell_type": "code",
   "execution_count": 11,
   "metadata": {},
   "outputs": [
    {
     "data": {
      "text/html": [
       "<div>\n",
       "<style scoped>\n",
       "    .dataframe tbody tr th:only-of-type {\n",
       "        vertical-align: middle;\n",
       "    }\n",
       "\n",
       "    .dataframe tbody tr th {\n",
       "        vertical-align: top;\n",
       "    }\n",
       "\n",
       "    .dataframe thead th {\n",
       "        text-align: right;\n",
       "    }\n",
       "</style>\n",
       "<table border=\"1\" class=\"dataframe\">\n",
       "  <thead>\n",
       "    <tr style=\"text-align: right;\">\n",
       "      <th>name</th>\n",
       "      <th>CartScreenAppear</th>\n",
       "      <th>MainScreenAppear</th>\n",
       "      <th>OffersScreenAppear</th>\n",
       "      <th>PaymentScreenSuccessful</th>\n",
       "      <th>Tutorial</th>\n",
       "    </tr>\n",
       "    <tr>\n",
       "      <th>date</th>\n",
       "      <th></th>\n",
       "      <th></th>\n",
       "      <th></th>\n",
       "      <th></th>\n",
       "      <th></th>\n",
       "    </tr>\n",
       "  </thead>\n",
       "  <tbody>\n",
       "    <tr>\n",
       "      <td>2019-07-25</td>\n",
       "      <td>2.0</td>\n",
       "      <td>4.0</td>\n",
       "      <td>1.0</td>\n",
       "      <td>2.0</td>\n",
       "      <td>NaN</td>\n",
       "    </tr>\n",
       "    <tr>\n",
       "      <td>2019-07-26</td>\n",
       "      <td>6.0</td>\n",
       "      <td>16.0</td>\n",
       "      <td>4.0</td>\n",
       "      <td>3.0</td>\n",
       "      <td>2.0</td>\n",
       "    </tr>\n",
       "    <tr>\n",
       "      <td>2019-07-27</td>\n",
       "      <td>4.0</td>\n",
       "      <td>39.0</td>\n",
       "      <td>9.0</td>\n",
       "      <td>1.0</td>\n",
       "      <td>2.0</td>\n",
       "    </tr>\n",
       "    <tr>\n",
       "      <td>2019-07-28</td>\n",
       "      <td>24.0</td>\n",
       "      <td>53.0</td>\n",
       "      <td>16.0</td>\n",
       "      <td>12.0</td>\n",
       "      <td>NaN</td>\n",
       "    </tr>\n",
       "    <tr>\n",
       "      <td>2019-07-29</td>\n",
       "      <td>23.0</td>\n",
       "      <td>132.0</td>\n",
       "      <td>20.0</td>\n",
       "      <td>9.0</td>\n",
       "      <td>NaN</td>\n",
       "    </tr>\n",
       "    <tr>\n",
       "      <td>2019-07-30</td>\n",
       "      <td>49.0</td>\n",
       "      <td>279.0</td>\n",
       "      <td>51.0</td>\n",
       "      <td>33.0</td>\n",
       "      <td>NaN</td>\n",
       "    </tr>\n",
       "    <tr>\n",
       "      <td>2019-07-31</td>\n",
       "      <td>257.0</td>\n",
       "      <td>1250.0</td>\n",
       "      <td>374.0</td>\n",
       "      <td>140.0</td>\n",
       "      <td>9.0</td>\n",
       "    </tr>\n",
       "    <tr>\n",
       "      <td>2019-08-01</td>\n",
       "      <td>6217.0</td>\n",
       "      <td>17945.0</td>\n",
       "      <td>6988.0</td>\n",
       "      <td>4771.0</td>\n",
       "      <td>220.0</td>\n",
       "    </tr>\n",
       "    <tr>\n",
       "      <td>2019-08-02</td>\n",
       "      <td>6522.0</td>\n",
       "      <td>16792.0</td>\n",
       "      <td>6924.0</td>\n",
       "      <td>5148.0</td>\n",
       "      <td>168.0</td>\n",
       "    </tr>\n",
       "    <tr>\n",
       "      <td>2019-08-03</td>\n",
       "      <td>6374.0</td>\n",
       "      <td>14832.0</td>\n",
       "      <td>6795.0</td>\n",
       "      <td>5119.0</td>\n",
       "      <td>162.0</td>\n",
       "    </tr>\n",
       "    <tr>\n",
       "      <td>2019-08-04</td>\n",
       "      <td>6155.0</td>\n",
       "      <td>15203.0</td>\n",
       "      <td>6487.0</td>\n",
       "      <td>4983.0</td>\n",
       "      <td>140.0</td>\n",
       "    </tr>\n",
       "    <tr>\n",
       "      <td>2019-08-05</td>\n",
       "      <td>6248.0</td>\n",
       "      <td>18005.0</td>\n",
       "      <td>6666.0</td>\n",
       "      <td>5024.0</td>\n",
       "      <td>115.0</td>\n",
       "    </tr>\n",
       "    <tr>\n",
       "      <td>2019-08-06</td>\n",
       "      <td>5733.0</td>\n",
       "      <td>18761.0</td>\n",
       "      <td>6533.0</td>\n",
       "      <td>4631.0</td>\n",
       "      <td>130.0</td>\n",
       "    </tr>\n",
       "    <tr>\n",
       "      <td>2019-08-07</td>\n",
       "      <td>5054.0</td>\n",
       "      <td>15790.0</td>\n",
       "      <td>5940.0</td>\n",
       "      <td>4242.0</td>\n",
       "      <td>70.0</td>\n",
       "    </tr>\n",
       "  </tbody>\n",
       "</table>\n",
       "</div>"
      ],
      "text/plain": [
       "name        CartScreenAppear  MainScreenAppear  OffersScreenAppear  \\\n",
       "date                                                                 \n",
       "2019-07-25               2.0               4.0                 1.0   \n",
       "2019-07-26               6.0              16.0                 4.0   \n",
       "2019-07-27               4.0              39.0                 9.0   \n",
       "2019-07-28              24.0              53.0                16.0   \n",
       "2019-07-29              23.0             132.0                20.0   \n",
       "2019-07-30              49.0             279.0                51.0   \n",
       "2019-07-31             257.0            1250.0               374.0   \n",
       "2019-08-01            6217.0           17945.0              6988.0   \n",
       "2019-08-02            6522.0           16792.0              6924.0   \n",
       "2019-08-03            6374.0           14832.0              6795.0   \n",
       "2019-08-04            6155.0           15203.0              6487.0   \n",
       "2019-08-05            6248.0           18005.0              6666.0   \n",
       "2019-08-06            5733.0           18761.0              6533.0   \n",
       "2019-08-07            5054.0           15790.0              5940.0   \n",
       "\n",
       "name        PaymentScreenSuccessful  Tutorial  \n",
       "date                                           \n",
       "2019-07-25                      2.0       NaN  \n",
       "2019-07-26                      3.0       2.0  \n",
       "2019-07-27                      1.0       2.0  \n",
       "2019-07-28                     12.0       NaN  \n",
       "2019-07-29                      9.0       NaN  \n",
       "2019-07-30                     33.0       NaN  \n",
       "2019-07-31                    140.0       9.0  \n",
       "2019-08-01                   4771.0     220.0  \n",
       "2019-08-02                   5148.0     168.0  \n",
       "2019-08-03                   5119.0     162.0  \n",
       "2019-08-04                   4983.0     140.0  \n",
       "2019-08-05                   5024.0     115.0  \n",
       "2019-08-06                   4631.0     130.0  \n",
       "2019-08-07                   4242.0      70.0  "
      ]
     },
     "execution_count": 11,
     "metadata": {},
     "output_type": "execute_result"
    }
   ],
   "source": [
    "data.pivot_table(index='date',columns ='name',\\\n",
    "                    values='user_id', aggfunc='count')"
   ]
  },
  {
   "cell_type": "code",
   "execution_count": 12,
   "metadata": {},
   "outputs": [
    {
     "data": {
      "image/png": "[encoded data removed]",
      "text/plain": [
       "<Figure size 432x288 with 1 Axes>"
      ]
     },
     "metadata": {
      "needs_background": "light"
     },
     "output_type": "display_data"
    }
   ],
   "source": [
    "data.pivot_table(index='date',columns ='name',\\\n",
    "                    values='user_id', aggfunc='count').plot(kind='bar', stacked = True)\n",
    "plt.xlabel('Дата')\n",
    "plt.ylabel('Количество событий')\n",
    "plt.title(\"Количество событий по дням в разбивке по событиям за весь период\")\n",
    "plt.xticks(rotation=90)\n",
    "plt.show()"
   ]
  },
  {
   "cell_type": "code",
   "execution_count": 13,
   "metadata": {},
   "outputs": [
    {
     "data": {
      "image/png": "[encoded data removed]",
      "text/plain": [
       "<Figure size 432x288 with 1 Axes>"
      ]
     },
     "metadata": {
      "needs_background": "light"
     },
     "output_type": "display_data"
    }
   ],
   "source": [
    "data[data['date'] <= '2019-07-31'].pivot_table(index='date',columns ='name',\\\n",
    "                    values='user_id', aggfunc='count').plot(kind='bar', stacked = True)\n",
    "plt.xlabel('Дата')\n",
    "plt.ylabel('Количество событий')\n",
    "plt.title(\"Количество событий по дням в разбивке по событиям до 31 июля\")\n",
    "plt.xticks(rotation=90)\n",
    "plt.show()"
   ]
  },
  {
   "cell_type": "code",
   "execution_count": 14,
   "metadata": {},
   "outputs": [
    {
     "name": "stdout",
     "output_type": "stream",
     "text": [
      "Количество событий в логе, которые потеряли: 2826\n",
      "Количество пользователей в логе, которые потеряли: 17\n",
      "Процент от исходных данных составляют отброшенные события: 1.16\n",
      "Процент от исходных данных составляют отброшенные пользователи: 0.23\n"
     ]
    }
   ],
   "source": [
    "data_new = data[data['date'] > '2019-07-31']\n",
    "\n",
    "print('Количество событий в логе, которые потеряли:', \\\n",
    "      data[data['date'] <= '2019-07-31'].shape[0])\n",
    "\n",
    "print('Количество пользователей в логе, которые потеряли:', \\\n",
    "      (data['user_id'].nunique() - data_new['user_id'].nunique()))\n",
    "\n",
    "print('Процент от исходных данных составляют отброшенные события:', \\\n",
    "      round(data[data['date'] <= '2019-07-31'].shape[0] / data.shape[0] * 100, 2))\n",
    "\n",
    "print('Процент от исходных данных составляют отброшенные пользователи:', \\\n",
    "      round((data['user_id'].nunique() - data_new['user_id'].nunique()) / \\\n",
    "            data['user_id'].nunique() * 100, 2))\n"
   ]
  },
  {
   "cell_type": "code",
   "execution_count": 15,
   "metadata": {},
   "outputs": [
    {
     "name": "stdout",
     "output_type": "stream",
     "text": [
      "Количество событий в очищенном логе: 240887\n",
      "Количество пользователей в в очищенном логе: 7534\n",
      "В среднем приходится на пользователя 32.0 события в очищенном логе\n"
     ]
    }
   ],
   "source": [
    "print('Количество событий в очищенном логе:', data_new.shape[0])\n",
    "print('Количество пользователей в в очищенном логе:', data_new['user_id'].nunique())\n",
    "print('В среднем приходится на пользователя', \\\n",
    "      round(data_new.groupby('user_id')['name'].count().mean(), 0), 'события в очищенном логе')"
   ]
  },
  {
   "cell_type": "code",
   "execution_count": 16,
   "metadata": {},
   "outputs": [
    {
     "data": {
      "text/plain": [
       "exp_id\n",
       "248    2537\n",
       "247    2513\n",
       "246    2484\n",
       "Name: user_id, dtype: int64"
      ]
     },
     "execution_count": 16,
     "metadata": {},
     "output_type": "execute_result"
    }
   ],
   "source": [
    "data_new.groupby('exp_id')['user_id'].nunique().sort_values(ascending=False)"
   ]
  },
  {
   "cell_type": "markdown",
   "metadata": {},
   "source": [
    "В очищенном логе есть пользователи всех трех экспериментальных групп, их количество сопоставимо"
   ]
  },
  {
   "cell_type": "markdown",
   "metadata": {},
   "source": [
    "ВЫВОД\n",
    "    \n",
    "В логе мобильного приложения магазина продуктов питания за период проведения A/A/B-теста, а именно: 25.07.2019 - 08.07.2019 представлена информация о 243713 событиях/действиях, при этом количество  уникальных пользователей в логе 7551 и в среднем приходится на одного пользователя 32 события.\n",
    "Однако, из анализируемого лога были удалены данные до 31 июля включительно, т.к. до этого периода данные были неполные. При этом была утеряна информация, включающая данные о 2826 событиях (1,1 % от общего количества) и 17 пользователях (0,2%), что не является критичным для точности исследования.\n",
    "Таким образом,  далее будем анализировать результаты А/А/В  в логе, который содержит 240887 событие за период: 1.08.2019 - 08.07.2019, при этом количество пользователей составляет 7534, в среднее значение событий на одного пользователя сообытий осталось тоже, 32."
   ]
  },
  {
   "cell_type": "markdown",
   "metadata": {},
   "source": [
    "<a href = '#section1'>Вернуться к оглавлению</a>\n",
    "</div>"
   ]
  },
  {
   "cell_type": "markdown",
   "metadata": {},
   "source": [
    "<a class=\"ancor\" id=\"step_5\"></a>\n",
    "## Изучение воронки событий"
   ]
  },
  {
   "cell_type": "code",
   "execution_count": 17,
   "metadata": {},
   "outputs": [
    {
     "data": {
      "text/html": [
       "<div>\n",
       "<style scoped>\n",
       "    .dataframe tbody tr th:only-of-type {\n",
       "        vertical-align: middle;\n",
       "    }\n",
       "\n",
       "    .dataframe tbody tr th {\n",
       "        vertical-align: top;\n",
       "    }\n",
       "\n",
       "    .dataframe thead th {\n",
       "        text-align: right;\n",
       "    }\n",
       "</style>\n",
       "<table border=\"1\" class=\"dataframe\">\n",
       "  <thead>\n",
       "    <tr style=\"text-align: right;\">\n",
       "      <th></th>\n",
       "      <th>name</th>\n",
       "      <th>count</th>\n",
       "    </tr>\n",
       "  </thead>\n",
       "  <tbody>\n",
       "    <tr>\n",
       "      <td>0</td>\n",
       "      <td>MainScreenAppear</td>\n",
       "      <td>117328</td>\n",
       "    </tr>\n",
       "    <tr>\n",
       "      <td>1</td>\n",
       "      <td>OffersScreenAppear</td>\n",
       "      <td>46333</td>\n",
       "    </tr>\n",
       "    <tr>\n",
       "      <td>2</td>\n",
       "      <td>CartScreenAppear</td>\n",
       "      <td>42303</td>\n",
       "    </tr>\n",
       "    <tr>\n",
       "      <td>3</td>\n",
       "      <td>PaymentScreenSuccessful</td>\n",
       "      <td>33918</td>\n",
       "    </tr>\n",
       "    <tr>\n",
       "      <td>4</td>\n",
       "      <td>Tutorial</td>\n",
       "      <td>1005</td>\n",
       "    </tr>\n",
       "  </tbody>\n",
       "</table>\n",
       "</div>"
      ],
      "text/plain": [
       "                      name   count\n",
       "0         MainScreenAppear  117328\n",
       "1       OffersScreenAppear   46333\n",
       "2         CartScreenAppear   42303\n",
       "3  PaymentScreenSuccessful   33918\n",
       "4                 Tutorial    1005"
      ]
     },
     "execution_count": 17,
     "metadata": {},
     "output_type": "execute_result"
    }
   ],
   "source": [
    "data_new.pivot_table(index='name',values = 'user_id', aggfunc = 'count')\\\n",
    "                                    .rename(columns={'user_id': 'count'}).\\\n",
    "                                    sort_values(by='count', ascending=False).reset_index()"
   ]
  },
  {
   "cell_type": "code",
   "execution_count": 18,
   "metadata": {},
   "outputs": [
    {
     "data": {
      "text/html": [
       "<div>\n",
       "<style scoped>\n",
       "    .dataframe tbody tr th:only-of-type {\n",
       "        vertical-align: middle;\n",
       "    }\n",
       "\n",
       "    .dataframe tbody tr th {\n",
       "        vertical-align: top;\n",
       "    }\n",
       "\n",
       "    .dataframe thead th {\n",
       "        text-align: right;\n",
       "    }\n",
       "</style>\n",
       "<table border=\"1\" class=\"dataframe\">\n",
       "  <thead>\n",
       "    <tr style=\"text-align: right;\">\n",
       "      <th></th>\n",
       "      <th>name</th>\n",
       "      <th>user_id</th>\n",
       "    </tr>\n",
       "  </thead>\n",
       "  <tbody>\n",
       "    <tr>\n",
       "      <td>0</td>\n",
       "      <td>MainScreenAppear</td>\n",
       "      <td>7419</td>\n",
       "    </tr>\n",
       "    <tr>\n",
       "      <td>1</td>\n",
       "      <td>OffersScreenAppear</td>\n",
       "      <td>4593</td>\n",
       "    </tr>\n",
       "    <tr>\n",
       "      <td>2</td>\n",
       "      <td>CartScreenAppear</td>\n",
       "      <td>3734</td>\n",
       "    </tr>\n",
       "    <tr>\n",
       "      <td>3</td>\n",
       "      <td>PaymentScreenSuccessful</td>\n",
       "      <td>3539</td>\n",
       "    </tr>\n",
       "    <tr>\n",
       "      <td>4</td>\n",
       "      <td>Tutorial</td>\n",
       "      <td>840</td>\n",
       "    </tr>\n",
       "  </tbody>\n",
       "</table>\n",
       "</div>"
      ],
      "text/plain": [
       "                      name  user_id\n",
       "0         MainScreenAppear     7419\n",
       "1       OffersScreenAppear     4593\n",
       "2         CartScreenAppear     3734\n",
       "3  PaymentScreenSuccessful     3539\n",
       "4                 Tutorial      840"
      ]
     },
     "execution_count": 18,
     "metadata": {},
     "output_type": "execute_result"
    }
   ],
   "source": [
    "data_new.groupby('name')['user_id'].nunique().sort_values(ascending=False).reset_index()"
   ]
  },
  {
   "cell_type": "markdown",
   "metadata": {},
   "source": [
    "Исходя из полученных данных можно предположить, что события происходят в следующем порядке:\n",
    "\n",
    "1\tMainScreenAppear (Главный экран)                                              \n",
    "2\tOffersScreenAppear (Экран предложений)                                                \n",
    "3\tCartScreenAppear (Экран корзины)                                         \n",
    "4\tPaymentScreenSuccessful (Платеж прошел успешно)\n",
    "\n",
    "\n",
    "Событие Tutorial (Руководство, инструкция)опционален и не выстраивается в воронку событий."
   ]
  },
  {
   "cell_type": "code",
   "execution_count": 19,
   "metadata": {},
   "outputs": [
    {
     "name": "stdout",
     "output_type": "stream",
     "text": [
      "Главный экран: 98.47 %\n",
      "Экран предложений: 61.91 %\n",
      "Экран корзины: 81.3 %\n",
      "Платеж прошел успешно: 94.78 %\n",
      "\n",
      "Доля пользователей, которая доходит от главной страницы до оплаты: 47.7 %\n"
     ]
    }
   ],
   "source": [
    "print('Главный экран:', \\\n",
    "      round(data_new[data_new['name'] ==  'MainScreenAppear']['user_id'].nunique() / \\\n",
    "       data_new['user_id'].nunique()*100,2), '%')\n",
    "\n",
    "print('Экран предложений:', \\\n",
    "      round(data_new[data_new['name'] ==  'OffersScreenAppear']['user_id'].nunique() / \\\n",
    "       data_new[data_new['name'] ==  'MainScreenAppear']['user_id'].nunique()*100,2),'%')\n",
    "\n",
    "print('Экран корзины:', \\\n",
    "      round(data_new[data_new['name'] ==  'CartScreenAppear']['user_id'].nunique() / \\\n",
    "       data_new[data_new['name'] ==  'OffersScreenAppear']['user_id'].nunique()*100,2),'%')\n",
    "\n",
    "print('Платеж прошел успешно:', \\\n",
    "      round(data_new[data_new['name'] ==  'PaymentScreenSuccessful']['user_id'].nunique() / \\\n",
    "       data_new[data_new['name'] ==  'CartScreenAppear']['user_id'].nunique()*100,2),'%')\n",
    "\n",
    "print()\n",
    "print('Доля пользователей, которая доходит от главной страницы до оплаты:', \\\n",
    "      round(data_new[data_new['name'] ==  'PaymentScreenSuccessful']['user_id'].nunique() / \\\n",
    "       data_new[data_new['name'] ==  'MainScreenAppear']['user_id'].nunique()*100,2),'%')"
   ]
  },
  {
   "cell_type": "markdown",
   "metadata": {},
   "source": [
    "Больше всего пользователей теряется при переходе от Главного экрана к Странице предложений "
   ]
  },
  {
   "cell_type": "markdown",
   "metadata": {},
   "source": [
    "ВЫВОД\n",
    "    \n",
    "События/действия пользователей предположительно выстраиваются в последовательную цепочку:\n",
    "Главный экран: 98.47 %                                                                     \n",
    "Экран предложений: 61.91 %                                                                \n",
    "Экран корзины: 81.3 %                                                                    \n",
    "Платеж прошел успешно: 94.78 %.                                                            \n",
    "    \n",
    "Доля пользователей, которая доходит от главной страницы до оплаты: 47.7 %.\n",
    "    \n",
    "Больше всего пользователей теряется при переходе от Главного экрана к Странице предложений.\n",
    "\n",
    "Событие Tutorial (Руководство, инструкция) не выстраивается в воронку событий."
   ]
  },
  {
   "cell_type": "markdown",
   "metadata": {},
   "source": [
    "<a href = '#section1'>Вернуться к оглавлению</a>\n",
    "</div>"
   ]
  },
  {
   "cell_type": "markdown",
   "metadata": {},
   "source": [
    "<a class=\"ancor\" id=\"step_6\"></a>\n",
    "## Изучение результатов эксперимента"
   ]
  },
  {
   "cell_type": "markdown",
   "metadata": {},
   "source": [
    "Изучим насколько успешно прошел А/А/B-тест по критериям:\n",
    "\n",
    "1. Количество пользователей в различных группах различается не более, чем на 1%;\n",
    "2. Для всех групп фиксируют и отправляют в системы аналитики данные об одном и том же; \n",
    "3. Различие ключевых метрик по группам не превышает 1% и не имеет статистической значимости; \n",
    "4. Попавший в одну из групп посетитель остаётся в этой группе до конца теста. Если пользователь видит разные версии исследуемой страницы в ходе одного исследования, неизвестно, какая именно повлияла на его решения. Значит, и результаты такого теста нельзя интерпретировать однозначно.\n",
    "\n"
   ]
  },
  {
   "cell_type": "code",
   "execution_count": 20,
   "metadata": {},
   "outputs": [
    {
     "data": {
      "text/html": [
       "<div>\n",
       "<style scoped>\n",
       "    .dataframe tbody tr th:only-of-type {\n",
       "        vertical-align: middle;\n",
       "    }\n",
       "\n",
       "    .dataframe tbody tr th {\n",
       "        vertical-align: top;\n",
       "    }\n",
       "\n",
       "    .dataframe thead th {\n",
       "        text-align: right;\n",
       "    }\n",
       "</style>\n",
       "<table border=\"1\" class=\"dataframe\">\n",
       "  <thead>\n",
       "    <tr style=\"text-align: right;\">\n",
       "      <th></th>\n",
       "      <th>exp_id</th>\n",
       "      <th>user_id</th>\n",
       "      <th>%</th>\n",
       "    </tr>\n",
       "  </thead>\n",
       "  <tbody>\n",
       "    <tr>\n",
       "      <td>0</td>\n",
       "      <td>248</td>\n",
       "      <td>2537</td>\n",
       "      <td>33.67</td>\n",
       "    </tr>\n",
       "    <tr>\n",
       "      <td>1</td>\n",
       "      <td>247</td>\n",
       "      <td>2513</td>\n",
       "      <td>33.36</td>\n",
       "    </tr>\n",
       "    <tr>\n",
       "      <td>2</td>\n",
       "      <td>246</td>\n",
       "      <td>2484</td>\n",
       "      <td>32.97</td>\n",
       "    </tr>\n",
       "  </tbody>\n",
       "</table>\n",
       "</div>"
      ],
      "text/plain": [
       "   exp_id  user_id      %\n",
       "0     248     2537  33.67\n",
       "1     247     2513  33.36\n",
       "2     246     2484  32.97"
      ]
     },
     "execution_count": 20,
     "metadata": {},
     "output_type": "execute_result"
    }
   ],
   "source": [
    "group = data_new.groupby('exp_id')['user_id'].nunique()\\\n",
    ".sort_values(ascending=False).reset_index()\n",
    "\n",
    "group['%']= round(group['user_id'] / group['user_id'].sum() * 100, 2)\n",
    "group"
   ]
  },
  {
   "cell_type": "markdown",
   "metadata": {},
   "source": [
    "**Количество пользователей в различных группах различается не более, чем на 1%**"
   ]
  },
  {
   "cell_type": "code",
   "execution_count": 21,
   "metadata": {},
   "outputs": [
    {
     "name": "stdout",
     "output_type": "stream",
     "text": [
      "Проверка на уникальность пользователей в группах\n",
      "\n",
      "Пересечение пользователей в группах 246 и 247: 0\n",
      "Пересечение пользователей в группах 247 и 248: 0\n",
      "Пересечение пользователей в группах 247 и 248: 0\n"
     ]
    }
   ],
   "source": [
    "group_246 = data_new[data_new['exp_id'] == 246]\n",
    "group_247 = data_new[data_new['exp_id'] == 247]\n",
    "group_248 = data_new[data_new['exp_id'] == 248]\n",
    "\n",
    "print('Проверка на уникальность пользователей в группах')\n",
    "print()\n",
    "print('Пересечение пользователей в группах 246 и 247:', group_247[group_247['user_id'].\\\n",
    "                                isin(group_246['user_id'].tolist())]['user_id'].count())\n",
    "print('Пересечение пользователей в группах 247 и 248:', group_248[group_248['user_id'].\n",
    "                                isin(group_247['user_id'].tolist())]['user_id'].count())\n",
    "print('Пересечение пользователей в группах 247 и 248:',group_248[group_248['user_id'].\\\n",
    "                                isin(group_246['user_id'].tolist())]['user_id'].count())"
   ]
  },
  {
   "cell_type": "markdown",
   "metadata": {},
   "source": [
    "**Попавший в одну из групп посетитель остаётся в группе до конца теста**"
   ]
  },
  {
   "cell_type": "code",
   "execution_count": 22,
   "metadata": {},
   "outputs": [
    {
     "data": {
      "text/html": [
       "<div>\n",
       "<style scoped>\n",
       "    .dataframe tbody tr th:only-of-type {\n",
       "        vertical-align: middle;\n",
       "    }\n",
       "\n",
       "    .dataframe tbody tr th {\n",
       "        vertical-align: top;\n",
       "    }\n",
       "\n",
       "    .dataframe thead th {\n",
       "        text-align: right;\n",
       "    }\n",
       "</style>\n",
       "<table border=\"1\" class=\"dataframe\">\n",
       "  <thead>\n",
       "    <tr style=\"text-align: right;\">\n",
       "      <th></th>\n",
       "      <th>name</th>\n",
       "      <th>246</th>\n",
       "      <th>247</th>\n",
       "      <th>248</th>\n",
       "      <th>246+247</th>\n",
       "      <th>246%</th>\n",
       "      <th>247%</th>\n",
       "      <th>248%</th>\n",
       "      <th>246+247%</th>\n",
       "    </tr>\n",
       "  </thead>\n",
       "  <tbody>\n",
       "    <tr>\n",
       "      <td>0</td>\n",
       "      <td>CartScreenAppear</td>\n",
       "      <td>1266</td>\n",
       "      <td>1238</td>\n",
       "      <td>1230</td>\n",
       "      <td>2504</td>\n",
       "      <td>18.79</td>\n",
       "      <td>18.55</td>\n",
       "      <td>18.32</td>\n",
       "      <td>18.67</td>\n",
       "    </tr>\n",
       "    <tr>\n",
       "      <td>1</td>\n",
       "      <td>MainScreenAppear</td>\n",
       "      <td>2450</td>\n",
       "      <td>2476</td>\n",
       "      <td>2493</td>\n",
       "      <td>4926</td>\n",
       "      <td>36.37</td>\n",
       "      <td>37.09</td>\n",
       "      <td>37.13</td>\n",
       "      <td>36.73</td>\n",
       "    </tr>\n",
       "    <tr>\n",
       "      <td>2</td>\n",
       "      <td>OffersScreenAppear</td>\n",
       "      <td>1542</td>\n",
       "      <td>1520</td>\n",
       "      <td>1531</td>\n",
       "      <td>3062</td>\n",
       "      <td>22.89</td>\n",
       "      <td>22.77</td>\n",
       "      <td>22.80</td>\n",
       "      <td>22.83</td>\n",
       "    </tr>\n",
       "    <tr>\n",
       "      <td>3</td>\n",
       "      <td>PaymentScreenSuccessful</td>\n",
       "      <td>1200</td>\n",
       "      <td>1158</td>\n",
       "      <td>1181</td>\n",
       "      <td>2358</td>\n",
       "      <td>17.81</td>\n",
       "      <td>17.35</td>\n",
       "      <td>17.59</td>\n",
       "      <td>17.58</td>\n",
       "    </tr>\n",
       "    <tr>\n",
       "      <td>4</td>\n",
       "      <td>Tutorial</td>\n",
       "      <td>278</td>\n",
       "      <td>283</td>\n",
       "      <td>279</td>\n",
       "      <td>561</td>\n",
       "      <td>4.13</td>\n",
       "      <td>4.24</td>\n",
       "      <td>4.16</td>\n",
       "      <td>4.18</td>\n",
       "    </tr>\n",
       "  </tbody>\n",
       "</table>\n",
       "</div>"
      ],
      "text/plain": [
       "                      name   246   247   248  246+247   246%   247%   248%  \\\n",
       "0         CartScreenAppear  1266  1238  1230     2504  18.79  18.55  18.32   \n",
       "1         MainScreenAppear  2450  2476  2493     4926  36.37  37.09  37.13   \n",
       "2       OffersScreenAppear  1542  1520  1531     3062  22.89  22.77  22.80   \n",
       "3  PaymentScreenSuccessful  1200  1158  1181     2358  17.81  17.35  17.59   \n",
       "4                 Tutorial   278   283   279      561   4.13   4.24   4.16   \n",
       "\n",
       "   246+247%  \n",
       "0     18.67  \n",
       "1     36.73  \n",
       "2     22.83  \n",
       "3     17.58  \n",
       "4      4.18  "
      ]
     },
     "execution_count": 22,
     "metadata": {},
     "output_type": "execute_result"
    }
   ],
   "source": [
    "data_event = data_new.pivot_table(index='name', columns='exp_id',\\\n",
    "                             values='user_id', aggfunc='nunique').reset_index()\n",
    "data_event.columns = ['name', '246', '247', '248']\n",
    "data_event['246+247'] = data_event['246'] + data_event['247']\n",
    "data_event['246%'] = round(data_event['246'] / data_event['246'].sum() * 100, 2)\n",
    "data_event['247%'] = round(data_event['247'] / data_event['247'].sum() * 100, 2)\n",
    "data_event['248%'] = round(data_event['248'] / data_event['248'].sum() * 100, 2)\n",
    "data_event['246+247%'] = round(data_event['246+247'] / data_event['246+247'].sum() * 100, 2)\n",
    "data_event"
   ]
  },
  {
   "cell_type": "markdown",
   "metadata": {},
   "source": [
    "**Для всех групп фиксируют и отправляют в системы аналитики данные об одном и том же**\n",
    "\n",
    "Ключевая метрика в нашем случае: какая доля  пользователей совершила покупку на каждом этапе воронки продаж.  Сравнить доли  со статистической значимостью можно  посредством гипотезы о равенстве долей в тестируемых группах. Разница между пропорциями, наблюдаемыми в тестах 246, 247, 248, будет нашей статистикой. \n",
    "\n",
    " **Но** гипотеза: доли пользователей для тестируемых групп, которые оплатили заказ, равны для события ( 'MainScreenAppear', 'CartScreenAppear', 'OffersScreenAppear'), т.е. нет разница в конверсии из какого либо этапа (события)  воронки в оплату.\n",
    "\n",
    " **Н1** гипотеза: между долями пользователей, которые оплатили заказ,  есть значимая разница, т.е. есть разница в конверсии из какого либо этапа  воронки в оплату.\n",
    "\n",
    "Для автоматизации проверки напишем функцию для сравнения долей с помощью z-статистики , в которой:\n",
    "a - уровень значимости,                                                                     group_1, group_1 - группы теста  (246, 247,248),                                           \n",
    "name - событие для которого считается конверсия в оплату.                                   "
   ]
  },
  {
   "cell_type": "code",
   "execution_count": 23,
   "metadata": {},
   "outputs": [],
   "source": [
    "def z(a, group_1, group_2, name):\n",
    "    alpha =  a \n",
    "    part_1 =  data_new[data_new['exp_id']==group_1].pivot_table(index='date',\\\n",
    "                           columns='name',values='user_id',aggfunc='nunique')\n",
    "             \n",
    "    part_2 =  data_new[data_new['exp_id']==group_2].pivot_table(index='date',\\\n",
    "                           columns='name',values='user_id',aggfunc='nunique')\n",
    "    \n",
    "    success= np.array([part_1['PaymentScreenSuccessful'].mean(), \\\n",
    "                       part_2['PaymentScreenSuccessful'].mean()])\n",
    "    \n",
    "    event = np.array([part_1[name].mean(), part_2[name].mean()])\n",
    "    \n",
    "    p1 = success[0] / event[0] \n",
    "    p2 = success[1] / event[1]\n",
    "    \n",
    "    p_combained = (success[0] + success[1])/(event[0] + event[1])\n",
    "    difference = p1 - p2\n",
    "    \n",
    "    z_value = difference / mth.sqrt(p_combained*(1-p_combained)*\\\n",
    "                                (1/event[0]+1/event[1]))\n",
    "    \n",
    "    distr = st.norm(0,1)\n",
    "    p_value = (1 - distr.cdf(abs(z_value)))*2\n",
    "    \n",
    "    print(f'Группы: {group_1, group_2}, Событие: {name}, Значение alpha: {alpha}')\n",
    "    \n",
    "    print('p-value:', p_value)\n",
    "    \n",
    "    if p_value < alpha:\n",
    "        print('Отвергаем нулевую гипотезу: между долями есть значимая разница')\n",
    "    else:\n",
    "        print('Не получилось отвергнуть нулевую гипотезу,нет оснований считать доли разными')\n",
    "    \n",
    "    print()"
   ]
  },
  {
   "cell_type": "code",
   "execution_count": 24,
   "metadata": {},
   "outputs": [
    {
     "name": "stdout",
     "output_type": "stream",
     "text": [
      "Группы: (246, 247), Событие: MainScreenAppear, Значение alpha: 0.01\n",
      "p-value: 0.4147494746072766\n",
      "Не получилось отвергнуть нулевую гипотезу,нет оснований считать доли разными\n",
      "\n",
      "Группы: (246, 248), Событие: MainScreenAppear, Значение alpha: 0.01\n",
      "p-value: 0.5480055947135316\n",
      "Не получилось отвергнуть нулевую гипотезу,нет оснований считать доли разными\n",
      "\n",
      "Группы: (247, 248), Событие: MainScreenAppear, Значение alpha: 0.01\n",
      "p-value: 0.8278352798067137\n",
      "Не получилось отвергнуть нулевую гипотезу,нет оснований считать доли разными\n",
      "\n",
      "Группы: (246, 247), Событие: CartScreenAppear, Значение alpha: 0.01\n",
      "p-value: 0.6440159148182185\n",
      "Не получилось отвергнуть нулевую гипотезу,нет оснований считать доли разными\n",
      "\n",
      "Группы: (246, 248), Событие: CartScreenAppear, Значение alpha: 0.01\n",
      "p-value: 0.9625391032858244\n",
      "Не получилось отвергнуть нулевую гипотезу,нет оснований считать доли разными\n",
      "\n",
      "Группы: (247, 248), Событие: CartScreenAppear, Значение alpha: 0.01\n",
      "p-value: 0.6110047691703075\n",
      "Не получилось отвергнуть нулевую гипотезу,нет оснований считать доли разными\n",
      "\n",
      "Группы: (246, 247), Событие: OffersScreenAppear, Значение alpha: 0.01\n",
      "p-value: 0.6449306127234706\n",
      "Не получилось отвергнуть нулевую гипотезу,нет оснований считать доли разными\n",
      "\n",
      "Группы: (246, 248), Событие: OffersScreenAppear, Значение alpha: 0.01\n",
      "p-value: 0.9959857866809039\n",
      "Не получилось отвергнуть нулевую гипотезу,нет оснований считать доли разными\n",
      "\n",
      "Группы: (247, 248), Событие: OffersScreenAppear, Значение alpha: 0.01\n",
      "p-value: 0.6486276691768147\n",
      "Не получилось отвергнуть нулевую гипотезу,нет оснований считать доли разными\n",
      "\n"
     ]
    }
   ],
   "source": [
    "events = ['MainScreenAppear', 'CartScreenAppear', 'OffersScreenAppear']\n",
    "\n",
    "for e in events:\n",
    "    z(0.01, 246, 247, e) \n",
    "    z(0.01, 246, 248, e)\n",
    "    z(0.01, 247, 248, e)"
   ]
  },
  {
   "cell_type": "markdown",
   "metadata": {},
   "source": [
    "В результатах А/А- теста ( группы 246 и 247) нет существенных различий,**группы поделены корректно.** \n",
    "Результаты А/B теста  свидетельствуют, что изменение шрифта не оказывает влияния на конверсию любого из событий на покупку. Т.е. **на покупательскую способность изменение шрифта не влияет.** "
   ]
  },
  {
   "cell_type": "code",
   "execution_count": 25,
   "metadata": {},
   "outputs": [],
   "source": [
    "def z1(a, name):\n",
    "    alpha =  a\n",
    "    part_1 =  data_new[data_new['exp_id'].isin((246,247))].pivot_table(index='date',\\\n",
    "                           columns='name',values='user_id',aggfunc='nunique')     \n",
    "    \n",
    "    part_2 =  data_new[data_new['exp_id']==248].pivot_table(index='date',\\\n",
    "                           columns='name',values='user_id',aggfunc='nunique')\n",
    "    success= np.array([part_1['PaymentScreenSuccessful'].mean(),\\\n",
    "                       part_2['PaymentScreenSuccessful'].mean()])\n",
    "    \n",
    "    event = np.array([part_1[name].mean(), part_2[name].mean()])\n",
    "    \n",
    "    p1 = success[0] / event[0] \n",
    "    p2 = success[1] / event[1]\n",
    "    \n",
    "    p_combained = (success[0] + success[1])/(event[0] + event[1])\n",
    "    difference = p1 - p2\n",
    "    \n",
    "    z_value = difference / mth.sqrt(p_combained*(1-p_combained)*\\\n",
    "                                (1/event[0]+1/event[1]))\n",
    " \n",
    "    distr = st.norm(0,1)\n",
    "    p_value = (1 - distr.cdf(abs(z_value)))*2\n",
    "    \n",
    "    print(f'Группы: (246+247, 248), Событие: {name}, Значение alpha: {alpha}')\n",
    "    \n",
    "    print('p-value:', p_value)\n",
    "    \n",
    "    if p_value < alpha:\n",
    "        print('Отвергаем нулевую гипотезу: между долями есть значимая разница')\n",
    "    else:\n",
    "        print('Не получилось отвергнуть нулевую гипотезу,нет оснований считать доли разными')\n",
    " "
   ]
  },
  {
   "cell_type": "markdown",
   "metadata": {},
   "source": [
    "Функция для проверки статистической значимости в  объединенной группе 246 с 247 (А) и 248 (В)."
   ]
  },
  {
   "cell_type": "code",
   "execution_count": 26,
   "metadata": {},
   "outputs": [
    {
     "name": "stdout",
     "output_type": "stream",
     "text": [
      "Группы: (246+247, 248), Событие: MainScreenAppear, Значение alpha: 0.01\n",
      "p-value: 0.8270263625099985\n",
      "Не получилось отвергнуть нулевую гипотезу,нет оснований считать доли разными\n",
      "Группы: (246+247, 248), Событие: CartScreenAppear, Значение alpha: 0.01\n",
      "p-value: 0.747857096906104\n",
      "Не получилось отвергнуть нулевую гипотезу,нет оснований считать доли разными\n",
      "Группы: (246+247, 248), Событие: OffersScreenAppear, Значение alpha: 0.01\n",
      "p-value: 0.7945830522543631\n",
      "Не получилось отвергнуть нулевую гипотезу,нет оснований считать доли разными\n"
     ]
    }
   ],
   "source": [
    "for e in events:\n",
    "    z1(0.01, e)"
   ]
  },
  {
   "cell_type": "markdown",
   "metadata": {},
   "source": [
    "Проверка статистической значимости в  объединенной группе 246 с 247 (А) и 248 (В) не выявила различие в долях групп (объединенной и с измененным шрифтом) при вероятности ошибки в 1%."
   ]
  },
  {
   "cell_type": "markdown",
   "metadata": {},
   "source": [
    "При проверке гипотез был выбран уровень значимости 0,01 (1%), т.е.  каждый сотый раз  можно получать ложный результат. Было сделано 16 проверок, учитывая объединенную группу. В принципе, с практической точки зрения можно  на таком уровне значимости остановиться. Но учитывая большой объем выборки, в которой более тысячи пользователей для любого из этапа воронки, уверенно отвергать нулевую гипотезу целесообразно только при значимости меньшей 0,001. Основываясь на ранее сделанных расчетах p-value можно констатировать, что нулевая гипотеза  не будет отвергнута при уровне значимости 0,001, равно как и при большем  уровне значимости 0,05 (расчеты смотри ниже)."
   ]
  },
  {
   "cell_type": "code",
   "execution_count": 27,
   "metadata": {},
   "outputs": [
    {
     "name": "stdout",
     "output_type": "stream",
     "text": [
      "Группы: (246, 247), Событие: MainScreenAppear, Значение alpha: 0.001\n",
      "p-value: 0.4147494746072766\n",
      "Не получилось отвергнуть нулевую гипотезу,нет оснований считать доли разными\n",
      "\n",
      "Группы: (246, 248), Событие: MainScreenAppear, Значение alpha: 0.001\n",
      "p-value: 0.5480055947135316\n",
      "Не получилось отвергнуть нулевую гипотезу,нет оснований считать доли разными\n",
      "\n",
      "Группы: (247, 248), Событие: MainScreenAppear, Значение alpha: 0.001\n",
      "p-value: 0.8278352798067137\n",
      "Не получилось отвергнуть нулевую гипотезу,нет оснований считать доли разными\n",
      "\n",
      "Группы: (246, 247), Событие: CartScreenAppear, Значение alpha: 0.001\n",
      "p-value: 0.6440159148182185\n",
      "Не получилось отвергнуть нулевую гипотезу,нет оснований считать доли разными\n",
      "\n",
      "Группы: (246, 248), Событие: CartScreenAppear, Значение alpha: 0.001\n",
      "p-value: 0.9625391032858244\n",
      "Не получилось отвергнуть нулевую гипотезу,нет оснований считать доли разными\n",
      "\n",
      "Группы: (247, 248), Событие: CartScreenAppear, Значение alpha: 0.001\n",
      "p-value: 0.6110047691703075\n",
      "Не получилось отвергнуть нулевую гипотезу,нет оснований считать доли разными\n",
      "\n",
      "Группы: (246, 247), Событие: OffersScreenAppear, Значение alpha: 0.001\n",
      "p-value: 0.6449306127234706\n",
      "Не получилось отвергнуть нулевую гипотезу,нет оснований считать доли разными\n",
      "\n",
      "Группы: (246, 248), Событие: OffersScreenAppear, Значение alpha: 0.001\n",
      "p-value: 0.9959857866809039\n",
      "Не получилось отвергнуть нулевую гипотезу,нет оснований считать доли разными\n",
      "\n",
      "Группы: (247, 248), Событие: OffersScreenAppear, Значение alpha: 0.001\n",
      "p-value: 0.6486276691768147\n",
      "Не получилось отвергнуть нулевую гипотезу,нет оснований считать доли разными\n",
      "\n"
     ]
    }
   ],
   "source": [
    "for e in events:\n",
    "    z(0.001, 246, 247, e) \n",
    "    z(0.001, 246, 248, e)\n",
    "    z(0.001, 247, 248, e)"
   ]
  },
  {
   "cell_type": "code",
   "execution_count": 28,
   "metadata": {},
   "outputs": [
    {
     "name": "stdout",
     "output_type": "stream",
     "text": [
      "Группы: (246, 247), Событие: MainScreenAppear, Значение alpha: 0.05\n",
      "p-value: 0.4147494746072766\n",
      "Не получилось отвергнуть нулевую гипотезу,нет оснований считать доли разными\n",
      "\n",
      "Группы: (246, 248), Событие: MainScreenAppear, Значение alpha: 0.05\n",
      "p-value: 0.5480055947135316\n",
      "Не получилось отвергнуть нулевую гипотезу,нет оснований считать доли разными\n",
      "\n",
      "Группы: (247, 248), Событие: MainScreenAppear, Значение alpha: 0.05\n",
      "p-value: 0.8278352798067137\n",
      "Не получилось отвергнуть нулевую гипотезу,нет оснований считать доли разными\n",
      "\n",
      "Группы: (246, 247), Событие: CartScreenAppear, Значение alpha: 0.05\n",
      "p-value: 0.6440159148182185\n",
      "Не получилось отвергнуть нулевую гипотезу,нет оснований считать доли разными\n",
      "\n",
      "Группы: (246, 248), Событие: CartScreenAppear, Значение alpha: 0.05\n",
      "p-value: 0.9625391032858244\n",
      "Не получилось отвергнуть нулевую гипотезу,нет оснований считать доли разными\n",
      "\n",
      "Группы: (247, 248), Событие: CartScreenAppear, Значение alpha: 0.05\n",
      "p-value: 0.6110047691703075\n",
      "Не получилось отвергнуть нулевую гипотезу,нет оснований считать доли разными\n",
      "\n",
      "Группы: (246, 247), Событие: OffersScreenAppear, Значение alpha: 0.05\n",
      "p-value: 0.6449306127234706\n",
      "Не получилось отвергнуть нулевую гипотезу,нет оснований считать доли разными\n",
      "\n",
      "Группы: (246, 248), Событие: OffersScreenAppear, Значение alpha: 0.05\n",
      "p-value: 0.9959857866809039\n",
      "Не получилось отвергнуть нулевую гипотезу,нет оснований считать доли разными\n",
      "\n",
      "Группы: (247, 248), Событие: OffersScreenAppear, Значение alpha: 0.05\n",
      "p-value: 0.6486276691768147\n",
      "Не получилось отвергнуть нулевую гипотезу,нет оснований считать доли разными\n",
      "\n"
     ]
    }
   ],
   "source": [
    "for e in events:\n",
    "    z(0.05, 246, 247, e) \n",
    "    z(0.05, 246, 248, e)\n",
    "    z(0.05, 247, 248, e)"
   ]
  },
  {
   "cell_type": "code",
   "execution_count": 29,
   "metadata": {},
   "outputs": [
    {
     "name": "stdout",
     "output_type": "stream",
     "text": [
      "Группы: (246+247, 248), Событие: MainScreenAppear, Значение alpha: 0.001\n",
      "p-value: 0.8270263625099985\n",
      "Не получилось отвергнуть нулевую гипотезу,нет оснований считать доли разными\n",
      "Группы: (246+247, 248), Событие: CartScreenAppear, Значение alpha: 0.001\n",
      "p-value: 0.747857096906104\n",
      "Не получилось отвергнуть нулевую гипотезу,нет оснований считать доли разными\n",
      "Группы: (246+247, 248), Событие: OffersScreenAppear, Значение alpha: 0.001\n",
      "p-value: 0.7945830522543631\n",
      "Не получилось отвергнуть нулевую гипотезу,нет оснований считать доли разными\n"
     ]
    }
   ],
   "source": [
    "for e in events:\n",
    "    z1(0.001, e)"
   ]
  },
  {
   "cell_type": "code",
   "execution_count": 31,
   "metadata": {},
   "outputs": [
    {
     "name": "stdout",
     "output_type": "stream",
     "text": [
      "Группы: (246+247, 248), Событие: MainScreenAppear, Значение alpha: 0.05\n",
      "p-value: 0.8270263625099985\n",
      "Не получилось отвергнуть нулевую гипотезу,нет оснований считать доли разными\n",
      "Группы: (246+247, 248), Событие: CartScreenAppear, Значение alpha: 0.05\n",
      "p-value: 0.747857096906104\n",
      "Не получилось отвергнуть нулевую гипотезу,нет оснований считать доли разными\n",
      "Группы: (246+247, 248), Событие: OffersScreenAppear, Значение alpha: 0.05\n",
      "p-value: 0.7945830522543631\n",
      "Не получилось отвергнуть нулевую гипотезу,нет оснований считать доли разными\n"
     ]
    }
   ],
   "source": [
    "for e in events:\n",
    "    z1(0.05, e)"
   ]
  },
  {
   "cell_type": "markdown",
   "metadata": {},
   "source": [
    "<a href = '#section1'>Вернуться к оглавлению</a>\n",
    "</div>"
   ]
  },
  {
   "cell_type": "markdown",
   "metadata": {},
   "source": [
    "<a class=\"ancor\" id=\"step_7\"></a>\n",
    "# ВЫВОДЫ"
   ]
  },
  {
   "cell_type": "markdown",
   "metadata": {},
   "source": [
    "Итак, для достижения поставленной цели: выявления влияния изменения шрифта на покупательскую способность был изучен лог мобильного приложения  магазина продуктов питания за период проведения A/A/B-теста, а именно: 25.07.2019 - 08.07.2019.\n",
    "\n",
    "В анализируемых данных пропусков не было, типы данных были представлены корректно. Для удобства анализа были заменены названия столбцов и добавлены  дополнительные столбцы даты и времени и дат, т.к. время события фиксировалось в формате Unix time в секундах.\n",
    "Из анализируемого лога были удалены строчные дубликаты в размере 1% и данные до 31 июля включительно, т.к.до этого периода данные были неполные. При этом была утеряна информация, включающая данные о  2826 событий (1,1 % от общего количества) и 17 пользователях (0,2%), что не является критичным для точности исследования. \n",
    "\n",
    "Таким образом, был проанализирован актуальный для целей проекта лог, который содержал  240887 событие  за период: 1.08.2019 - 08.07.2019. При этом количество пользователей в очищенном логе составляло 7534, в среднем приходилось на пользователя 32 событий/действий (медианное значение).\n",
    "\n",
    "Пересечения в группах не выявлено, различие в количестве пользователей в группах составило не более, чем 1%.\n",
    "Для всех групп фиксировались данные об одних и техже событиях/действиях в сопоставимых пропорциях:MainScreenAppear (Главный экран), OffersScreenAppear (Экран предложений), CartScreenAppear (Экран корзины), PaymentScreenSuccessful (Платеж прошел успешно),Tutorial (Руководство, инструкция).\n",
    "\n",
    "Для достижения поставленных целей была составлена воронка продаж и изучена конверсия покупателей на каждом этапе. Статистическая значимость результатов A/A/B-теста  была оценена посредством проверки гипотезы о равенстве долей в тестируемых группах, критерий значимости был выбран 1%.\n",
    "\n",
    "В итоге:\n",
    "1. События/действия пользователей предположительно выстраиваются в  последовательную цепочку:  \n",
    "Главный экран: 98.47 %                                                                     \n",
    "Экран предложений: 61.91 %                                                                 \n",
    "Экран корзины: 81.3 %                                                                      \n",
    "Платеж прошел успешно: 94.78 %.                                                             \n",
    "Доля пользователей, которая доходит от главной страницы до оплаты: 47.7 %\n",
    "Больше всего пользователей теряется при переходе от Главного экрана к Странице предложений.\n",
    "Событие Tutorial (Руководство, инструкция) не выстраивается в воронку событий.\n",
    "2. В результатах А/А- теста нет существенных различий,группы поделены корректно. \n",
    "3. Результаты А/B теста свидетельствуют, что изменение шрифта не оказывает влияния на конверсию любого из событий на покупку. Т.е. на покупательскую способность изменение шрифта не влияет. Проверка статистической значимости в  объединенной контрольной группе и группе с измененным шрифтом также не выявила различие в долях групп при вероятности ошибки 1%.\n"
   ]
  },
  {
   "cell_type": "markdown",
   "metadata": {},
   "source": [
    "<a href = '#section1'>Вернуться к оглавлению</a>\n",
    "</div>"
   ]
  }
 ],
 "metadata": {
  "ExecuteTimeLog": [
   {
    "duration": 1349,
    "start_time": "2021-08-19T08:18:38.676Z"
   },
   {
    "duration": 186,
    "start_time": "2021-08-19T08:18:40.028Z"
   },
   {
    "duration": 105,
    "start_time": "2021-08-19T08:18:40.216Z"
   },
   {
    "duration": 117,
    "start_time": "2021-08-19T08:18:40.324Z"
   },
   {
    "duration": 6,
    "start_time": "2021-08-19T08:18:40.443Z"
   },
   {
    "duration": 50,
    "start_time": "2021-08-19T08:18:40.466Z"
   },
   {
    "duration": 75,
    "start_time": "2021-08-19T08:18:40.518Z"
   },
   {
    "duration": 612,
    "start_time": "2021-08-19T08:18:40.596Z"
   },
   {
    "duration": 7,
    "start_time": "2021-08-19T08:18:41.211Z"
   },
   {
    "duration": 449,
    "start_time": "2021-08-19T08:18:41.221Z"
   },
   {
    "duration": 97,
    "start_time": "2021-08-19T08:18:41.672Z"
   },
   {
    "duration": 688,
    "start_time": "2021-08-19T08:18:41.772Z"
   },
   {
    "duration": 487,
    "start_time": "2021-08-19T08:18:42.466Z"
   },
   {
    "duration": 47,
    "start_time": "2021-08-19T08:18:42.956Z"
   },
   {
    "duration": 29,
    "start_time": "2021-08-19T08:18:43.005Z"
   },
   {
    "duration": 67,
    "start_time": "2021-08-19T08:18:43.036Z"
   },
   {
    "duration": 72,
    "start_time": "2021-08-19T08:18:43.105Z"
   },
   {
    "duration": 68,
    "start_time": "2021-08-19T08:18:43.179Z"
   },
   {
    "duration": 219,
    "start_time": "2021-08-19T08:18:43.267Z"
   },
   {
    "duration": 47,
    "start_time": "2021-08-19T08:18:43.488Z"
   },
   {
    "duration": 88,
    "start_time": "2021-08-19T08:18:43.538Z"
   },
   {
    "duration": 340,
    "start_time": "2021-08-19T08:18:43.628Z"
   },
   {
    "duration": 138,
    "start_time": "2021-08-19T08:18:43.972Z"
   },
   {
    "duration": -34,
    "start_time": "2021-08-19T08:18:44.147Z"
   },
   {
    "duration": -53,
    "start_time": "2021-08-19T08:18:44.167Z"
   },
   {
    "duration": -68,
    "start_time": "2021-08-19T08:18:44.184Z"
   },
   {
    "duration": -90,
    "start_time": "2021-08-19T08:18:44.208Z"
   },
   {
    "duration": -106,
    "start_time": "2021-08-19T08:18:44.225Z"
   },
   {
    "duration": 10,
    "start_time": "2021-08-19T08:28:49.702Z"
   },
   {
    "duration": 869,
    "start_time": "2021-08-19T08:28:54.801Z"
   },
   {
    "duration": 9,
    "start_time": "2021-08-19T08:29:14.150Z"
   },
   {
    "duration": 1979,
    "start_time": "2021-08-19T08:29:16.952Z"
   },
   {
    "duration": 9,
    "start_time": "2021-08-19T08:29:37.193Z"
   },
   {
    "duration": 983,
    "start_time": "2021-08-19T08:29:40.172Z"
   },
   {
    "duration": 1991,
    "start_time": "2021-08-19T08:30:35.333Z"
   },
   {
    "duration": 989,
    "start_time": "2021-08-19T08:30:39.614Z"
   },
   {
    "duration": 2041,
    "start_time": "2021-08-19T08:32:32.293Z"
   },
   {
    "duration": 979,
    "start_time": "2021-08-19T08:32:53.769Z"
   },
   {
    "duration": 1352,
    "start_time": "2021-08-19T08:42:18.483Z"
   },
   {
    "duration": 176,
    "start_time": "2021-08-19T08:42:19.838Z"
   },
   {
    "duration": 124,
    "start_time": "2021-08-19T08:42:20.021Z"
   },
   {
    "duration": 127,
    "start_time": "2021-08-19T08:42:20.147Z"
   },
   {
    "duration": 6,
    "start_time": "2021-08-19T08:42:20.276Z"
   },
   {
    "duration": 59,
    "start_time": "2021-08-19T08:42:20.284Z"
   },
   {
    "duration": 64,
    "start_time": "2021-08-19T08:42:20.347Z"
   },
   {
    "duration": 596,
    "start_time": "2021-08-19T08:42:20.414Z"
   },
   {
    "duration": 9,
    "start_time": "2021-08-19T08:42:21.012Z"
   },
   {
    "duration": 454,
    "start_time": "2021-08-19T08:42:21.024Z"
   },
   {
    "duration": 103,
    "start_time": "2021-08-19T08:42:21.480Z"
   },
   {
    "duration": 708,
    "start_time": "2021-08-19T08:42:21.586Z"
   },
   {
    "duration": 494,
    "start_time": "2021-08-19T08:42:22.297Z"
   },
   {
    "duration": 41,
    "start_time": "2021-08-19T08:42:22.794Z"
   },
   {
    "duration": 50,
    "start_time": "2021-08-19T08:42:22.837Z"
   },
   {
    "duration": 41,
    "start_time": "2021-08-19T08:42:22.890Z"
   },
   {
    "duration": 73,
    "start_time": "2021-08-19T08:42:22.933Z"
   },
   {
    "duration": 90,
    "start_time": "2021-08-19T08:42:23.009Z"
   },
   {
    "duration": 223,
    "start_time": "2021-08-19T08:42:23.102Z"
   },
   {
    "duration": 62,
    "start_time": "2021-08-19T08:42:23.327Z"
   },
   {
    "duration": 80,
    "start_time": "2021-08-19T08:42:23.392Z"
   },
   {
    "duration": 351,
    "start_time": "2021-08-19T08:42:23.477Z"
   },
   {
    "duration": 10,
    "start_time": "2021-08-19T08:42:23.830Z"
   },
   {
    "duration": 1969,
    "start_time": "2021-08-19T08:42:23.842Z"
   },
   {
    "duration": 10,
    "start_time": "2021-08-19T08:42:25.814Z"
   },
   {
    "duration": 976,
    "start_time": "2021-08-19T08:42:25.826Z"
   },
   {
    "duration": 2030,
    "start_time": "2021-08-19T08:42:26.804Z"
   },
   {
    "duration": 2100,
    "start_time": "2021-08-19T08:42:28.836Z"
   },
   {
    "duration": 1051,
    "start_time": "2021-08-19T08:42:30.938Z"
   },
   {
    "duration": 77,
    "start_time": "2021-08-19T08:42:31.992Z"
   },
   {
    "duration": 986,
    "start_time": "2021-08-19T08:43:11.063Z"
   }
  ],
  "kernelspec": {
   "display_name": "Python 3",
   "language": "python",
   "name": "python3"
  },
  "language_info": {
   "codemirror_mode": {
    "name": "ipython",
    "version": 3
   },
   "file_extension": ".py",
   "mimetype": "text/x-python",
   "name": "python",
   "nbconvert_exporter": "python",
   "pygments_lexer": "ipython3",
   "version": "3.7.8"
  },
  "toc": {
   "base_numbering": 1,
   "nav_menu": {},
   "number_sections": true,
   "sideBar": true,
   "skip_h1_title": true,
   "title_cell": "Table of Contents",
   "title_sidebar": "Contents",
   "toc_cell": false,
   "toc_position": {},
   "toc_section_display": true,
   "toc_window_display": false
  }
 },
 "nbformat": 4,
 "nbformat_minor": 2
}
